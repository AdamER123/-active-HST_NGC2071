{
 "cells": [
  {
   "cell_type": "code",
   "execution_count": 2,
   "id": "0eba999b",
   "metadata": {},
   "outputs": [],
   "source": [
    "from astropy.io import fits\n",
    "from astropy.wcs import WCS\n",
    "import glob\n",
    "import sys\n",
    "import warnings\n",
    "warnings.filterwarnings('ignore')\n",
    "\n",
    "#other libraries, if you like, that may be related\n",
    "# from astropy.stats import mad_std, sigma_clipped_stats\n",
    "# import numpy as np\n",
    "# import pandas as pd\n",
    "# import matplotlib.pyplot as plt\n",
    "# import matplotlib.patches as mpatches\n",
    "# from photutils import datasets\n",
    "# from photutils import DAOStarFinder\n",
    "# from photutils.centroids import centroid_2dg, centroid_quadratic\n",
    "# from photutils import aperture_photometry, EllipticalAperture, CircularAperture\n",
    "# from scipy.ndimage.interpolation import rotate"
   ]
  },
  {
   "cell_type": "markdown",
   "metadata": {},
   "source": [
    "# First edit the WCS of F130N by hand to roughly align all .fits files\n",
    "\n",
    "Note: the others are relatively well-aligned, so do not disrupt the dithering pattern that was done with the observing plan!"
   ]
  },
  {
   "cell_type": "code",
   "execution_count": 50,
   "metadata": {},
   "outputs": [
    {
     "name": "stdout",
     "output_type": "stream",
     "text": [
      "../HST_NGC2071IR_Center\\hops361-epoch2-f130n_misaligned\\iej707a8q_flt.fits 0\n",
      "../HST_NGC2071IR_Center\\hops361-epoch2-f130n_misaligned\\iej707abq_flt.fits 1\n",
      "../HST_NGC2071IR_Center\\hops361-epoch2-f130n_misaligned\\iej707aeq_flt.fits 2\n"
     ]
    }
   ],
   "source": [
    "folder_list = glob.glob('../HST_NGC2071IR_Center/*') #read in all files with a certain tag\n",
    "filter_list = ['126n', '128n', '130n', '164n', '167n', '160w'] #this set only uses the epoch 2 frames\n",
    "flt_list = ['707a8q', '707abq', '707aeq']\n",
    "x_offset_list = [-3, -5, 0.148]\n",
    "y_offset_list = [0, 0, 0.056]\n",
    "\n",
    "#loop through files\n",
    "for folder in folder_list:\n",
    "    file_list = glob.glob(folder + '/*')\n",
    "    count = 0\n",
    "    for file in file_list:\n",
    "        if file.find(filter_list[2]) > 0: #so we can control which filter we're testing\n",
    "            # print(file) #check file name\n",
    "\n",
    "            #open file and grab header coordinate reference values\n",
    "            hdu=fits.open(file)\n",
    "            hdr=hdu[1].header\n",
    "            og_crval1=hdr['CRVAL1']\n",
    "            og_crval2=hdr['CRVAL2']\n",
    "\n",
    "            #open a file and edit the coordinates as needed\n",
    "            hdu_update=fits.open(file)\n",
    "            if file.find('707') > 0 and file.find(flt_list[count]) and folder.find('misaligned') > 0:\n",
    "                hdu_update[1].header['CRVAL1']=og_crval1 + x_offset_list[count]/3600 #converting from arcsec to degrees as appropriate\n",
    "                hdu_update[1].header['CRVAL2']=og_crval2 + y_offset_list[count]/3600\n",
    "                print(file,count)\n",
    "                count+=1\n",
    "\n",
    "\n",
    "            #snip the original file name and save it\n",
    "            filename_updated = file.split('_')[-2].split('iej')[-1]\n",
    "            hdu_update.writeto(filename_updated + '_updated_pos.fits', overwrite=True)\n",
    "\n"
   ]
  },
  {
   "cell_type": "markdown",
   "metadata": {},
   "source": [
    "Then go to run it through drizzle (see ngc2071_alignment_9_14_23.py)"
   ]
  },
  {
   "cell_type": "markdown",
   "metadata": {},
   "source": [
    "# Then go and double check alignment, do fine tuning with the final products...shouldn't be necessary, though"
   ]
  },
  {
   "cell_type": "code",
   "execution_count": 2,
   "id": "d834abfd",
   "metadata": {},
   "outputs": [
    {
     "name": "stdout",
     "output_type": "stream",
     "text": [
      "126n_thresh100_minobj3_imedian_realigned_dropsize1p0_finalpixfrac1_nocr_drz.fits\n",
      "128n_thresh100_minobj3_imedian_realigned_dropsize1p0_finalpixfrac1_nocr_drz.fits\n",
      "130n_thresh100_minobj3_imedian_realigned_dropsize1p0_finalpixfrac1_nocr_drz.fits\n",
      "160w_thresh100_minobj3_imedian_realigned_dropsize1p0_finalpixfrac1_nocr_drz.fits\n",
      "164n_thresh100_minobj3_imedian_realigned_dropsize1p0_finalpixfrac1_nocr_drz.fits\n",
      "167n_thresh100_minobj3_imedian_realigned_dropsize1p0_finalpixfrac1_nocr_drz.fits\n"
     ]
    }
   ],
   "source": [
    "file_list = glob.glob('*imedian*1p0*') #read in all files with a certain tag\n",
    "\n",
    "#loop through files\n",
    "for file in file_list:\n",
    "    print(file) #check file name\n",
    "\n",
    "    #open file and grab header coordinate reference values\n",
    "    hdu=fits.open(file)\n",
    "    hdr=hdu[1].header\n",
    "    og_crval1=hdr['CRVAL1']\n",
    "    og_crval2=hdr['CRVAL2']\n",
    "\n",
    "    #open a file and edit the coordinates as needed\n",
    "    hdu_update=fits.open(file)\n",
    "    hdu_update[1].header['CRVAL1']=og_crval1+(0.215/3600)\n",
    "    hdu_update[1].header['CRVAL2']=og_crval2-(0.21/3600)\n",
    "\n",
    "    #snip the original file name and save it\n",
    "    filename_updated = file.split('_')[0]\n",
    "    hdu_update.writeto(filename_updated + '_updated_pos.fits', overwrite=True)"
   ]
  },
  {
   "cell_type": "code",
   "execution_count": null,
   "id": "4070a110",
   "metadata": {},
   "outputs": [],
   "source": []
  }
 ],
 "metadata": {
  "kernelspec": {
   "display_name": "Python 3 (ipykernel)",
   "language": "python",
   "name": "python3"
  },
  "language_info": {
   "codemirror_mode": {
    "name": "ipython",
    "version": 3
   },
   "file_extension": ".py",
   "mimetype": "text/x-python",
   "name": "python",
   "nbconvert_exporter": "python",
   "pygments_lexer": "ipython3",
   "version": "3.8.13"
  }
 },
 "nbformat": 4,
 "nbformat_minor": 5
}
