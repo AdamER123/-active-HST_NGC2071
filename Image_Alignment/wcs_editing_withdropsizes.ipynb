{
 "cells": [
  {
   "cell_type": "code",
   "execution_count": 1,
   "id": "0eba999b",
   "metadata": {},
   "outputs": [],
   "source": [
    "import glob\n",
    "# import numpy as np\n",
    "# import pandas as pd\n",
    "# import matplotlib.pyplot as plt\n",
    "# import matplotlib.patches as mpatches\n",
    "# from photutils import datasets\n",
    "# from photutils import DAOStarFinder\n",
    "# from photutils.centroids import centroid_2dg, centroid_quadratic\n",
    "# from photutils import aperture_photometry, EllipticalAperture, CircularAperture\n",
    "from astropy.io import fits\n",
    "from astropy.wcs import WCS\n",
    "# from astropy.stats import mad_std, sigma_clipped_stats\n",
    "# from scipy.ndimage.interpolation import rotate\n",
    "import warnings\n",
    "warnings.filterwarnings('ignore')"
   ]
  },
  {
   "cell_type": "code",
   "execution_count": 2,
   "id": "d834abfd",
   "metadata": {},
   "outputs": [
    {
     "name": "stdout",
     "output_type": "stream",
     "text": [
      "126n_thresh100_minobj3_imedian_realigned_dropsize1p0_finalpixfrac1_nocr_drz.fits\n",
      "128n_thresh100_minobj3_imedian_realigned_dropsize1p0_finalpixfrac1_nocr_drz.fits\n",
      "130n_thresh100_minobj3_imedian_realigned_dropsize1p0_finalpixfrac1_nocr_drz.fits\n",
      "160w_thresh100_minobj3_imedian_realigned_dropsize1p0_finalpixfrac1_nocr_drz.fits\n",
      "164n_thresh100_minobj3_imedian_realigned_dropsize1p0_finalpixfrac1_nocr_drz.fits\n",
      "167n_thresh100_minobj3_imedian_realigned_dropsize1p0_finalpixfrac1_nocr_drz.fits\n"
     ]
    }
   ],
   "source": [
    "file_list = glob.glob('*imedian*1p0*') #read in all files with a certain tag\n",
    "\n",
    "#loop through files\n",
    "for file in file_list:\n",
    "    print(file) #check file name\n",
    "\n",
    "    #open file and grab header coordinate reference values\n",
    "    hdu=fits.open(file)\n",
    "    hdr=hdu[1].header\n",
    "    og_crval1=hdr['CRVAL1']\n",
    "    og_crval2=hdr['CRVAL2']\n",
    "\n",
    "    #open a file and edit the coordinates as needed\n",
    "    hdu_update=fits.open(file)\n",
    "    hdu_update[1].header['CRVAL1']=og_crval1+(0.215/3600)\n",
    "    hdu_update[1].header['CRVAL2']=og_crval2-(0.21/3600)\n",
    "\n",
    "    #snip the original file name and save it\n",
    "    filename_updated = file.split('_')[0]\n",
    "    hdu_update.writeto(filename_updated + '_updated_pos.fits', overwrite=True)"
   ]
  },
  {
   "cell_type": "code",
   "execution_count": null,
   "id": "4070a110",
   "metadata": {},
   "outputs": [],
   "source": []
  }
 ],
 "metadata": {
  "kernelspec": {
   "display_name": "Python 3 (ipykernel)",
   "language": "python",
   "name": "python3"
  },
  "language_info": {
   "codemirror_mode": {
    "name": "ipython",
    "version": 3
   },
   "file_extension": ".py",
   "mimetype": "text/x-python",
   "name": "python",
   "nbconvert_exporter": "python",
   "pygments_lexer": "ipython3",
   "version": "3.8.13"
  }
 },
 "nbformat": 4,
 "nbformat_minor": 5
}
